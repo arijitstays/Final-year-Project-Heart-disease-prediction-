{
 "cells": [
  {
   "cell_type": "code",
   "execution_count": 1,
   "id": "bb1f6c99",
   "metadata": {
    "_cell_guid": "b1076dfc-b9ad-4769-8c92-a6c4dae69d19",
    "_uuid": "8f2839f25d086af736a60e9eeb907d3b93b6e0e5",
    "execution": {
     "iopub.execute_input": "2022-11-23T13:27:06.787997Z",
     "iopub.status.busy": "2022-11-23T13:27:06.787253Z",
     "iopub.status.idle": "2022-11-23T13:27:08.980184Z",
     "shell.execute_reply": "2022-11-23T13:27:08.979156Z"
    },
    "papermill": {
     "duration": 2.202052,
     "end_time": "2022-11-23T13:27:08.983334",
     "exception": false,
     "start_time": "2022-11-23T13:27:06.781282",
     "status": "completed"
    },
    "tags": []
   },
   "outputs": [
    {
     "name": "stdout",
     "output_type": "stream",
     "text": [
      "/kaggle/input/53k-data-heart/53k data.csv\n"
     ]
    }
   ],
   "source": [
    "import numpy as np\n",
    "import pandas as pd \n",
    "import os\n",
    "import time\n",
    "import numpy as np\n",
    "import pandas as pd\n",
    "\n",
    "from sklearn.model_selection import train_test_split, cross_validate\n",
    "from sklearn.metrics import confusion_matrix, make_scorer\n",
    "\n",
    "from sklearn.linear_model import LogisticRegression\n",
    "from sklearn.ensemble import RandomForestClassifier\n",
    "from imblearn.ensemble import EasyEnsembleClassifier\n",
    "from sklearn.tree import DecisionTreeClassifier\n",
    "from sklearn.ensemble import RandomForestClassifier,AdaBoostClassifier,GradientBoostingClassifier\n",
    "from sklearn.neighbors import KNeighborsClassifier \n",
    "from sklearn.preprocessing import MinMaxScaler\n",
    "random_state=7\n",
    "for dirname, _, filenames in os.walk('/kaggle/input'):\n",
    "    for filename in filenames:\n",
    "        print(os.path.join(dirname, filename))\n",
    "\n"
   ]
  },
  {
   "cell_type": "code",
   "execution_count": 2,
   "id": "afac1023",
   "metadata": {
    "execution": {
     "iopub.execute_input": "2022-11-23T13:27:08.992688Z",
     "iopub.status.busy": "2022-11-23T13:27:08.991131Z",
     "iopub.status.idle": "2022-11-23T13:27:09.073656Z",
     "shell.execute_reply": "2022-11-23T13:27:09.072636Z"
    },
    "papermill": {
     "duration": 0.089119,
     "end_time": "2022-11-23T13:27:09.076065",
     "exception": false,
     "start_time": "2022-11-23T13:27:08.986946",
     "status": "completed"
    },
    "tags": []
   },
   "outputs": [],
   "source": [
    "df=pd.read_csv(\"../input/53k-data-heart/53k data.csv\")"
   ]
  },
  {
   "cell_type": "code",
   "execution_count": 3,
   "id": "ba1d2878",
   "metadata": {
    "execution": {
     "iopub.execute_input": "2022-11-23T13:27:09.084354Z",
     "iopub.status.busy": "2022-11-23T13:27:09.084035Z",
     "iopub.status.idle": "2022-11-23T13:27:09.107912Z",
     "shell.execute_reply": "2022-11-23T13:27:09.106984Z"
    },
    "papermill": {
     "duration": 0.030674,
     "end_time": "2022-11-23T13:27:09.110256",
     "exception": false,
     "start_time": "2022-11-23T13:27:09.079582",
     "status": "completed"
    },
    "tags": []
   },
   "outputs": [
    {
     "data": {
      "text/html": [
       "<div>\n",
       "<style scoped>\n",
       "    .dataframe tbody tr th:only-of-type {\n",
       "        vertical-align: middle;\n",
       "    }\n",
       "\n",
       "    .dataframe tbody tr th {\n",
       "        vertical-align: top;\n",
       "    }\n",
       "\n",
       "    .dataframe thead th {\n",
       "        text-align: right;\n",
       "    }\n",
       "</style>\n",
       "<table border=\"1\" class=\"dataframe\">\n",
       "  <thead>\n",
       "    <tr style=\"text-align: right;\">\n",
       "      <th></th>\n",
       "      <th>Sex</th>\n",
       "      <th>Age</th>\n",
       "      <th>HighBP</th>\n",
       "      <th>HighChol</th>\n",
       "      <th>chest pain</th>\n",
       "      <th>BMI</th>\n",
       "      <th>Smoker</th>\n",
       "      <th>Stroke</th>\n",
       "      <th>Diabetes</th>\n",
       "      <th>PhysActivity</th>\n",
       "      <th>HvyAlcoholConsump</th>\n",
       "      <th>HeartDiseaseorAttack</th>\n",
       "    </tr>\n",
       "  </thead>\n",
       "  <tbody>\n",
       "    <tr>\n",
       "      <th>0</th>\n",
       "      <td>0</td>\n",
       "      <td>9</td>\n",
       "      <td>1</td>\n",
       "      <td>1</td>\n",
       "      <td>1</td>\n",
       "      <td>40</td>\n",
       "      <td>1</td>\n",
       "      <td>0</td>\n",
       "      <td>0</td>\n",
       "      <td>0</td>\n",
       "      <td>0</td>\n",
       "      <td>0</td>\n",
       "    </tr>\n",
       "    <tr>\n",
       "      <th>1</th>\n",
       "      <td>0</td>\n",
       "      <td>7</td>\n",
       "      <td>0</td>\n",
       "      <td>0</td>\n",
       "      <td>0</td>\n",
       "      <td>25</td>\n",
       "      <td>1</td>\n",
       "      <td>0</td>\n",
       "      <td>0</td>\n",
       "      <td>1</td>\n",
       "      <td>0</td>\n",
       "      <td>0</td>\n",
       "    </tr>\n",
       "    <tr>\n",
       "      <th>2</th>\n",
       "      <td>0</td>\n",
       "      <td>9</td>\n",
       "      <td>1</td>\n",
       "      <td>1</td>\n",
       "      <td>1</td>\n",
       "      <td>28</td>\n",
       "      <td>0</td>\n",
       "      <td>0</td>\n",
       "      <td>0</td>\n",
       "      <td>0</td>\n",
       "      <td>0</td>\n",
       "      <td>0</td>\n",
       "    </tr>\n",
       "    <tr>\n",
       "      <th>3</th>\n",
       "      <td>0</td>\n",
       "      <td>11</td>\n",
       "      <td>1</td>\n",
       "      <td>0</td>\n",
       "      <td>1</td>\n",
       "      <td>27</td>\n",
       "      <td>0</td>\n",
       "      <td>0</td>\n",
       "      <td>0</td>\n",
       "      <td>1</td>\n",
       "      <td>0</td>\n",
       "      <td>0</td>\n",
       "    </tr>\n",
       "    <tr>\n",
       "      <th>4</th>\n",
       "      <td>0</td>\n",
       "      <td>11</td>\n",
       "      <td>1</td>\n",
       "      <td>1</td>\n",
       "      <td>1</td>\n",
       "      <td>24</td>\n",
       "      <td>0</td>\n",
       "      <td>0</td>\n",
       "      <td>0</td>\n",
       "      <td>1</td>\n",
       "      <td>0</td>\n",
       "      <td>0</td>\n",
       "    </tr>\n",
       "  </tbody>\n",
       "</table>\n",
       "</div>"
      ],
      "text/plain": [
       "   Sex  Age  HighBP  HighChol  chest pain  BMI  Smoker  Stroke  Diabetes  \\\n",
       "0    0    9       1         1           1   40       1       0         0   \n",
       "1    0    7       0         0           0   25       1       0         0   \n",
       "2    0    9       1         1           1   28       0       0         0   \n",
       "3    0   11       1         0           1   27       0       0         0   \n",
       "4    0   11       1         1           1   24       0       0         0   \n",
       "\n",
       "   PhysActivity  HvyAlcoholConsump  HeartDiseaseorAttack  \n",
       "0             0                  0                     0  \n",
       "1             1                  0                     0  \n",
       "2             0                  0                     0  \n",
       "3             1                  0                     0  \n",
       "4             1                  0                     0  "
      ]
     },
     "execution_count": 3,
     "metadata": {},
     "output_type": "execute_result"
    }
   ],
   "source": [
    "pd.set_option('display.max_columns', 500)\n",
    "df.head()"
   ]
  },
  {
   "cell_type": "code",
   "execution_count": 4,
   "id": "6106d329",
   "metadata": {
    "execution": {
     "iopub.execute_input": "2022-11-23T13:27:09.119314Z",
     "iopub.status.busy": "2022-11-23T13:27:09.118481Z",
     "iopub.status.idle": "2022-11-23T13:27:09.135418Z",
     "shell.execute_reply": "2022-11-23T13:27:09.134362Z"
    },
    "papermill": {
     "duration": 0.023421,
     "end_time": "2022-11-23T13:27:09.137517",
     "exception": false,
     "start_time": "2022-11-23T13:27:09.114096",
     "status": "completed"
    },
    "tags": []
   },
   "outputs": [],
   "source": [
    "#select \"target\" as target variable:\n",
    "y = df['HeartDiseaseorAttack']\n",
    "\n",
    "#all the other columns omiting \"target\" as the feature variables:\n",
    "X = df.drop(['HeartDiseaseorAttack'],axis=1)"
   ]
  },
  {
   "cell_type": "code",
   "execution_count": 5,
   "id": "5fa26ed9",
   "metadata": {
    "execution": {
     "iopub.execute_input": "2022-11-23T13:27:09.145979Z",
     "iopub.status.busy": "2022-11-23T13:27:09.145688Z",
     "iopub.status.idle": "2022-11-23T13:27:09.160927Z",
     "shell.execute_reply": "2022-11-23T13:27:09.159602Z"
    },
    "papermill": {
     "duration": 0.02274,
     "end_time": "2022-11-23T13:27:09.163663",
     "exception": false,
     "start_time": "2022-11-23T13:27:09.140923",
     "status": "completed"
    },
    "tags": []
   },
   "outputs": [
    {
     "name": "stdout",
     "output_type": "stream",
     "text": [
      "Dimensions: \n",
      " x_train:(42399, 11) \n",
      " x_test(10600, 11) \n",
      " y_train(42399,) \n",
      " y_test(10600,)\n"
     ]
    }
   ],
   "source": [
    "#train-test splits\n",
    "x_train, x_test, y_train, y_test = train_test_split(X, y, test_size = 0.2, random_state=random_state)\n",
    "print('Dimensions: \\n x_train:{} \\n x_test{} \\n y_train{} \\n y_test{}'.format(x_train.shape, x_test.shape, y_train.shape, y_test.shape))"
   ]
  },
  {
   "cell_type": "code",
   "execution_count": 6,
   "id": "6e2809b1",
   "metadata": {
    "execution": {
     "iopub.execute_input": "2022-11-23T13:27:09.172514Z",
     "iopub.status.busy": "2022-11-23T13:27:09.172241Z",
     "iopub.status.idle": "2022-11-23T13:27:09.176438Z",
     "shell.execute_reply": "2022-11-23T13:27:09.175554Z"
    },
    "papermill": {
     "duration": 0.010536,
     "end_time": "2022-11-23T13:27:09.178451",
     "exception": false,
     "start_time": "2022-11-23T13:27:09.167915",
     "status": "completed"
    },
    "tags": []
   },
   "outputs": [],
   "source": [
    "#create true negative, false positive, false negative, and true positive \n",
    "#def tn(y_true, y_pred): return confusion_matrix(y_true, y_pred)[0, 0]\n",
    "#def fp(y_true, y_pred): return confusion_matrix(y_true, y_pred)[0, 1]\n",
    "#def fn(y_true, y_pred): return confusion_matrix(y_true, y_pred)[1, 0]\n",
    "#def tp(y_true, y_pred): return confusion_matrix(y_true, y_pred)[1, 1]"
   ]
  },
  {
   "cell_type": "code",
   "execution_count": 7,
   "id": "5119b32d",
   "metadata": {
    "execution": {
     "iopub.execute_input": "2022-11-23T13:27:09.190309Z",
     "iopub.status.busy": "2022-11-23T13:27:09.189189Z",
     "iopub.status.idle": "2022-11-23T13:27:09.462027Z",
     "shell.execute_reply": "2022-11-23T13:27:09.460757Z"
    },
    "papermill": {
     "duration": 0.281276,
     "end_time": "2022-11-23T13:27:09.464808",
     "exception": false,
     "start_time": "2022-11-23T13:27:09.183532",
     "status": "completed"
    },
    "tags": []
   },
   "outputs": [
    {
     "data": {
      "text/plain": [
       "0.7739629664028289"
      ]
     },
     "execution_count": 7,
     "metadata": {},
     "output_type": "execute_result"
    }
   ],
   "source": [
    "#bagging classifier\n",
    "from sklearn.datasets import make_classification\n",
    "X, y = make_classification(n_samples=10000, n_features=2, n_informative=2,\n",
    "                           n_redundant=0, n_repeated=0, n_classes=3,\n",
    "                           n_clusters_per_class=1,\n",
    "                           weights=[0.01, 0.05, 0.94], class_sep=0.8,\n",
    "                           random_state=0)\n",
    "from sklearn.model_selection import train_test_split\n",
    "from sklearn.metrics import balanced_accuracy_score\n",
    "from sklearn.ensemble import BaggingClassifier\n",
    "from sklearn.tree import DecisionTreeClassifier\n",
    "X_train, X_test, y_train, y_test = train_test_split(X, y, random_state=0)\n",
    "bc = BaggingClassifier(base_estimator=DecisionTreeClassifier(),\n",
    "                       random_state=0)\n",
    "bc.fit(X_train, y_train) \n",
    "\n",
    "y_pred = bc.predict(X_test)\n",
    "balanced_accuracy_score(y_test, y_pred) "
   ]
  },
  {
   "cell_type": "code",
   "execution_count": 8,
   "id": "0e5328e2",
   "metadata": {
    "execution": {
     "iopub.execute_input": "2022-11-23T13:27:09.474284Z",
     "iopub.status.busy": "2022-11-23T13:27:09.473982Z",
     "iopub.status.idle": "2022-11-23T13:27:09.538928Z",
     "shell.execute_reply": "2022-11-23T13:27:09.537760Z"
    },
    "papermill": {
     "duration": 0.072147,
     "end_time": "2022-11-23T13:27:09.541377",
     "exception": false,
     "start_time": "2022-11-23T13:27:09.469230",
     "status": "completed"
    },
    "tags": []
   },
   "outputs": [
    {
     "data": {
      "text/plain": [
       "0.8251353587264241"
      ]
     },
     "execution_count": 8,
     "metadata": {},
     "output_type": "execute_result"
    }
   ],
   "source": [
    "#balanced bagging classifier\n",
    "from imblearn.ensemble import BalancedBaggingClassifier\n",
    "bbc = BalancedBaggingClassifier(base_estimator=DecisionTreeClassifier(),\n",
    "                                sampling_strategy='auto',\n",
    "                                replacement=False,\n",
    "                                random_state=0)\n",
    "bbc.fit(X_train, y_train) \n",
    "\n",
    "y_pred = bbc.predict(X_test)\n",
    "balanced_accuracy_score(y_test, y_pred)\n"
   ]
  },
  {
   "cell_type": "code",
   "execution_count": 9,
   "id": "3a54403d",
   "metadata": {
    "execution": {
     "iopub.execute_input": "2022-11-23T13:27:09.551927Z",
     "iopub.status.busy": "2022-11-23T13:27:09.550980Z",
     "iopub.status.idle": "2022-11-23T13:27:10.038841Z",
     "shell.execute_reply": "2022-11-23T13:27:10.037825Z"
    },
    "papermill": {
     "duration": 0.495825,
     "end_time": "2022-11-23T13:27:10.041448",
     "exception": false,
     "start_time": "2022-11-23T13:27:09.545623",
     "status": "completed"
    },
    "tags": []
   },
   "outputs": [
    {
     "data": {
      "text/plain": [
       "0.8102589703105166"
      ]
     },
     "execution_count": 9,
     "metadata": {},
     "output_type": "execute_result"
    }
   ],
   "source": [
    "#BalancedRandomForestClassifier\n",
    "from sklearn.metrics import balanced_accuracy_score\n",
    "from imblearn.ensemble import BalancedRandomForestClassifier\n",
    "brf = BalancedRandomForestClassifier(n_estimators=100, random_state=0)\n",
    "brf.fit(X_train, y_train) \n",
    "\n",
    "y_pred = brf.predict(X_test)\n",
    "balanced_accuracy_score(y_test, y_pred)  \n"
   ]
  },
  {
   "cell_type": "code",
   "execution_count": 10,
   "id": "2f1e469e",
   "metadata": {
    "execution": {
     "iopub.execute_input": "2022-11-23T13:27:10.052081Z",
     "iopub.status.busy": "2022-11-23T13:27:10.051735Z",
     "iopub.status.idle": "2022-11-23T13:27:11.143709Z",
     "shell.execute_reply": "2022-11-23T13:27:11.142629Z"
    },
    "papermill": {
     "duration": 1.099927,
     "end_time": "2022-11-23T13:27:11.145991",
     "exception": false,
     "start_time": "2022-11-23T13:27:10.046064",
     "status": "completed"
    },
    "tags": []
   },
   "outputs": [
    {
     "data": {
      "text/plain": [
       "0.5729579235592982"
      ]
     },
     "execution_count": 10,
     "metadata": {},
     "output_type": "execute_result"
    }
   ],
   "source": [
    "#rusboostclassifier\n",
    "from imblearn.ensemble import RUSBoostClassifier\n",
    "rusboost = RUSBoostClassifier(n_estimators=200, algorithm='SAMME.R',\n",
    "                              random_state=0)\n",
    "rusboost.fit(X_train, y_train)  \n",
    "\n",
    "y_pred = rusboost.predict(X_test)\n",
    "balanced_accuracy_score(y_test, y_pred)"
   ]
  },
  {
   "cell_type": "code",
   "execution_count": 11,
   "id": "61ae4f50",
   "metadata": {
    "execution": {
     "iopub.execute_input": "2022-11-23T13:27:11.155966Z",
     "iopub.status.busy": "2022-11-23T13:27:11.155642Z",
     "iopub.status.idle": "2022-11-23T13:27:12.463919Z",
     "shell.execute_reply": "2022-11-23T13:27:12.462785Z"
    },
    "papermill": {
     "duration": 1.316029,
     "end_time": "2022-11-23T13:27:12.466363",
     "exception": false,
     "start_time": "2022-11-23T13:27:11.150334",
     "status": "completed"
    },
    "tags": []
   },
   "outputs": [
    {
     "data": {
      "text/plain": [
       "0.6248477859302602"
      ]
     },
     "execution_count": 11,
     "metadata": {},
     "output_type": "execute_result"
    }
   ],
   "source": [
    "#easyensembleclassifier\n",
    "from imblearn.ensemble import EasyEnsembleClassifier\n",
    "eec = EasyEnsembleClassifier(random_state=0)\n",
    "eec.fit(X_train, y_train) \n",
    "\n",
    "y_pred = eec.predict(X_test)\n",
    "balanced_accuracy_score(y_test, y_pred)"
   ]
  },
  {
   "cell_type": "code",
   "execution_count": 12,
   "id": "05e08196",
   "metadata": {
    "execution": {
     "iopub.execute_input": "2022-11-23T13:27:12.476899Z",
     "iopub.status.busy": "2022-11-23T13:27:12.476589Z",
     "iopub.status.idle": "2022-11-23T13:27:12.548161Z",
     "shell.execute_reply": "2022-11-23T13:27:12.547021Z"
    },
    "papermill": {
     "duration": 0.08006,
     "end_time": "2022-11-23T13:27:12.550993",
     "exception": false,
     "start_time": "2022-11-23T13:27:12.470933",
     "status": "completed"
    },
    "tags": []
   },
   "outputs": [
    {
     "name": "stdout",
     "output_type": "stream",
     "text": [
      "KNN Accuracy:  0.7964346649054552\n"
     ]
    }
   ],
   "source": [
    "# Basic KNN Method\n",
    "knn = KNeighborsClassifier(n_neighbors = 2)\n",
    "knn.fit(X_train, y_train)\n",
    "y_pred = knn.predict(X_test)\n",
    "print(\"KNN Accuracy: \",balanced_accuracy_score(y_test, y_pred))"
   ]
  },
  {
   "cell_type": "code",
   "execution_count": 13,
   "id": "f862bcb6",
   "metadata": {
    "execution": {
     "iopub.execute_input": "2022-11-23T13:27:12.561635Z",
     "iopub.status.busy": "2022-11-23T13:27:12.560899Z",
     "iopub.status.idle": "2022-11-23T13:27:12.574342Z",
     "shell.execute_reply": "2022-11-23T13:27:12.573137Z"
    },
    "papermill": {
     "duration": 0.021288,
     "end_time": "2022-11-23T13:27:12.576874",
     "exception": false,
     "start_time": "2022-11-23T13:27:12.555586",
     "status": "completed"
    },
    "tags": []
   },
   "outputs": [
    {
     "name": "stdout",
     "output_type": "stream",
     "text": [
      "Naive Bayes Classifier Accuracy:  0.5295671100653919\n"
     ]
    }
   ],
   "source": [
    "#naive bayes\n",
    "from sklearn.naive_bayes import GaussianNB\n",
    "Gnb = GaussianNB()\n",
    "Gnb.fit(X_train, y_train)\n",
    "y_pred = Gnb.predict(X_test)\n",
    "print(\"Naive Bayes Classifier Accuracy: \",balanced_accuracy_score(y_test, y_pred))"
   ]
  }
 ],
 "metadata": {
  "kernelspec": {
   "display_name": "Python 3",
   "language": "python",
   "name": "python3"
  },
  "language_info": {
   "codemirror_mode": {
    "name": "ipython",
    "version": 3
   },
   "file_extension": ".py",
   "mimetype": "text/x-python",
   "name": "python",
   "nbconvert_exporter": "python",
   "pygments_lexer": "ipython3",
   "version": "3.7.12"
  },
  "papermill": {
   "default_parameters": {},
   "duration": 17.724111,
   "end_time": "2022-11-23T13:27:13.102209",
   "environment_variables": {},
   "exception": null,
   "input_path": "__notebook__.ipynb",
   "output_path": "__notebook__.ipynb",
   "parameters": {},
   "start_time": "2022-11-23T13:26:55.378098",
   "version": "2.3.4"
  }
 },
 "nbformat": 4,
 "nbformat_minor": 5
}
