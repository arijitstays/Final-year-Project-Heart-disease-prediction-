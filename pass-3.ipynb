{
 "cells": [
  {
   "cell_type": "code",
   "execution_count": 1,
   "id": "ec028b8b",
   "metadata": {
    "_cell_guid": "b1076dfc-b9ad-4769-8c92-a6c4dae69d19",
    "_uuid": "8f2839f25d086af736a60e9eeb907d3b93b6e0e5",
    "execution": {
     "iopub.execute_input": "2022-12-06T16:24:05.261553Z",
     "iopub.status.busy": "2022-12-06T16:24:05.260567Z",
     "iopub.status.idle": "2022-12-06T16:24:06.537428Z",
     "shell.execute_reply": "2022-12-06T16:24:06.535961Z"
    },
    "papermill": {
     "duration": 1.287383,
     "end_time": "2022-12-06T16:24:06.540474",
     "exception": false,
     "start_time": "2022-12-06T16:24:05.253091",
     "status": "completed"
    },
    "tags": []
   },
   "outputs": [
    {
     "name": "stdout",
     "output_type": "stream",
     "text": [
      "/kaggle/input/53k-data-heart/53k data.csv\n"
     ]
    }
   ],
   "source": [
    "import numpy as np\n",
    "import pandas as pd \n",
    "import os\n",
    "import time\n",
    "import numpy as np\n",
    "import pandas as pd\n",
    "\n",
    "from sklearn.model_selection import train_test_split, cross_validate\n",
    "from sklearn.metrics import confusion_matrix, make_scorer\n",
    "\n",
    "from sklearn.linear_model import LogisticRegression\n",
    "from sklearn.ensemble import RandomForestClassifier\n",
    "from imblearn.ensemble import EasyEnsembleClassifier\n",
    "from sklearn.tree import DecisionTreeClassifier\n",
    "from sklearn.ensemble import RandomForestClassifier,AdaBoostClassifier,GradientBoostingClassifier\n",
    "from sklearn.neighbors import KNeighborsClassifier \n",
    "from sklearn.preprocessing import MinMaxScaler\n",
    "for dirname, _, filenames in os.walk('/kaggle/input'):\n",
    "    for filename in filenames:\n",
    "        print(os.path.join(dirname, filename))\n",
    "\n"
   ]
  },
  {
   "cell_type": "code",
   "execution_count": 2,
   "id": "df1dc53b",
   "metadata": {
    "execution": {
     "iopub.execute_input": "2022-12-06T16:24:06.554559Z",
     "iopub.status.busy": "2022-12-06T16:24:06.553807Z",
     "iopub.status.idle": "2022-12-06T16:24:06.635362Z",
     "shell.execute_reply": "2022-12-06T16:24:06.633839Z"
    },
    "papermill": {
     "duration": 0.090714,
     "end_time": "2022-12-06T16:24:06.638239",
     "exception": false,
     "start_time": "2022-12-06T16:24:06.547525",
     "status": "completed"
    },
    "tags": []
   },
   "outputs": [],
   "source": [
    "df=pd.read_csv(\"../input/53k-data-heart/53k data.csv\")"
   ]
  },
  {
   "cell_type": "code",
   "execution_count": 3,
   "id": "6cbcd5df",
   "metadata": {
    "execution": {
     "iopub.execute_input": "2022-12-06T16:24:06.654165Z",
     "iopub.status.busy": "2022-12-06T16:24:06.653029Z",
     "iopub.status.idle": "2022-12-06T16:24:06.675593Z",
     "shell.execute_reply": "2022-12-06T16:24:06.674386Z"
    },
    "papermill": {
     "duration": 0.033188,
     "end_time": "2022-12-06T16:24:06.677963",
     "exception": false,
     "start_time": "2022-12-06T16:24:06.644775",
     "status": "completed"
    },
    "tags": []
   },
   "outputs": [
    {
     "data": {
      "text/html": [
       "<div>\n",
       "<style scoped>\n",
       "    .dataframe tbody tr th:only-of-type {\n",
       "        vertical-align: middle;\n",
       "    }\n",
       "\n",
       "    .dataframe tbody tr th {\n",
       "        vertical-align: top;\n",
       "    }\n",
       "\n",
       "    .dataframe thead th {\n",
       "        text-align: right;\n",
       "    }\n",
       "</style>\n",
       "<table border=\"1\" class=\"dataframe\">\n",
       "  <thead>\n",
       "    <tr style=\"text-align: right;\">\n",
       "      <th></th>\n",
       "      <th>Sex</th>\n",
       "      <th>Age</th>\n",
       "      <th>HighBP</th>\n",
       "      <th>HighChol</th>\n",
       "      <th>chest pain</th>\n",
       "      <th>BMI</th>\n",
       "      <th>Smoker</th>\n",
       "      <th>Stroke</th>\n",
       "      <th>Diabetes</th>\n",
       "      <th>PhysActivity</th>\n",
       "      <th>HvyAlcoholConsump</th>\n",
       "      <th>HeartDiseaseorAttack</th>\n",
       "    </tr>\n",
       "  </thead>\n",
       "  <tbody>\n",
       "    <tr>\n",
       "      <th>0</th>\n",
       "      <td>0</td>\n",
       "      <td>9</td>\n",
       "      <td>1</td>\n",
       "      <td>1</td>\n",
       "      <td>1</td>\n",
       "      <td>40</td>\n",
       "      <td>1</td>\n",
       "      <td>0</td>\n",
       "      <td>0</td>\n",
       "      <td>0</td>\n",
       "      <td>0</td>\n",
       "      <td>0</td>\n",
       "    </tr>\n",
       "    <tr>\n",
       "      <th>1</th>\n",
       "      <td>0</td>\n",
       "      <td>7</td>\n",
       "      <td>0</td>\n",
       "      <td>0</td>\n",
       "      <td>0</td>\n",
       "      <td>25</td>\n",
       "      <td>1</td>\n",
       "      <td>0</td>\n",
       "      <td>0</td>\n",
       "      <td>1</td>\n",
       "      <td>0</td>\n",
       "      <td>0</td>\n",
       "    </tr>\n",
       "    <tr>\n",
       "      <th>2</th>\n",
       "      <td>0</td>\n",
       "      <td>9</td>\n",
       "      <td>1</td>\n",
       "      <td>1</td>\n",
       "      <td>1</td>\n",
       "      <td>28</td>\n",
       "      <td>0</td>\n",
       "      <td>0</td>\n",
       "      <td>0</td>\n",
       "      <td>0</td>\n",
       "      <td>0</td>\n",
       "      <td>0</td>\n",
       "    </tr>\n",
       "    <tr>\n",
       "      <th>3</th>\n",
       "      <td>0</td>\n",
       "      <td>11</td>\n",
       "      <td>1</td>\n",
       "      <td>0</td>\n",
       "      <td>1</td>\n",
       "      <td>27</td>\n",
       "      <td>0</td>\n",
       "      <td>0</td>\n",
       "      <td>0</td>\n",
       "      <td>1</td>\n",
       "      <td>0</td>\n",
       "      <td>0</td>\n",
       "    </tr>\n",
       "    <tr>\n",
       "      <th>4</th>\n",
       "      <td>0</td>\n",
       "      <td>11</td>\n",
       "      <td>1</td>\n",
       "      <td>1</td>\n",
       "      <td>1</td>\n",
       "      <td>24</td>\n",
       "      <td>0</td>\n",
       "      <td>0</td>\n",
       "      <td>0</td>\n",
       "      <td>1</td>\n",
       "      <td>0</td>\n",
       "      <td>0</td>\n",
       "    </tr>\n",
       "  </tbody>\n",
       "</table>\n",
       "</div>"
      ],
      "text/plain": [
       "   Sex  Age  HighBP  HighChol  chest pain  BMI  Smoker  Stroke  Diabetes  \\\n",
       "0    0    9       1         1           1   40       1       0         0   \n",
       "1    0    7       0         0           0   25       1       0         0   \n",
       "2    0    9       1         1           1   28       0       0         0   \n",
       "3    0   11       1         0           1   27       0       0         0   \n",
       "4    0   11       1         1           1   24       0       0         0   \n",
       "\n",
       "   PhysActivity  HvyAlcoholConsump  HeartDiseaseorAttack  \n",
       "0             0                  0                     0  \n",
       "1             1                  0                     0  \n",
       "2             0                  0                     0  \n",
       "3             1                  0                     0  \n",
       "4             1                  0                     0  "
      ]
     },
     "execution_count": 3,
     "metadata": {},
     "output_type": "execute_result"
    }
   ],
   "source": [
    "#pd.set_option('display.max_columns', 500)\n",
    "df.head()"
   ]
  },
  {
   "cell_type": "code",
   "execution_count": 4,
   "id": "32fce7b4",
   "metadata": {
    "execution": {
     "iopub.execute_input": "2022-12-06T16:24:06.688701Z",
     "iopub.status.busy": "2022-12-06T16:24:06.687634Z",
     "iopub.status.idle": "2022-12-06T16:24:06.704560Z",
     "shell.execute_reply": "2022-12-06T16:24:06.703538Z"
    },
    "papermill": {
     "duration": 0.024973,
     "end_time": "2022-12-06T16:24:06.707316",
     "exception": false,
     "start_time": "2022-12-06T16:24:06.682343",
     "status": "completed"
    },
    "tags": []
   },
   "outputs": [],
   "source": [
    "#select \"target\" as target variable:\n",
    "y = df['HeartDiseaseorAttack']\n",
    "\n",
    "#all the other columns omiting \"target\" as the feature variables:\n",
    "X = df.drop(['HeartDiseaseorAttack'],axis=1)"
   ]
  },
  {
   "cell_type": "code",
   "execution_count": 5,
   "id": "9ace08e5",
   "metadata": {
    "execution": {
     "iopub.execute_input": "2022-12-06T16:24:06.717451Z",
     "iopub.status.busy": "2022-12-06T16:24:06.717044Z",
     "iopub.status.idle": "2022-12-06T16:24:06.738054Z",
     "shell.execute_reply": "2022-12-06T16:24:06.736868Z"
    },
    "papermill": {
     "duration": 0.028942,
     "end_time": "2022-12-06T16:24:06.740651",
     "exception": false,
     "start_time": "2022-12-06T16:24:06.711709",
     "status": "completed"
    },
    "tags": []
   },
   "outputs": [
    {
     "name": "stdout",
     "output_type": "stream",
     "text": [
      "Dimensions: \n",
      " x_train:(26499, 11) \n",
      " x_test(26500, 11) \n",
      " y_train(26499,) \n",
      " y_test(26500,)\n"
     ]
    }
   ],
   "source": [
    "#train-test splits\n",
    "x_train, x_test, y_train, y_test = train_test_split(X, y, test_size = 0.5, random_state=7)\n",
    "print('Dimensions: \\n x_train:{} \\n x_test{} \\n y_train{} \\n y_test{}'.format(x_train.shape, x_test.shape, y_train.shape, y_test.shape))"
   ]
  },
  {
   "cell_type": "code",
   "execution_count": 6,
   "id": "977b8a30",
   "metadata": {
    "execution": {
     "iopub.execute_input": "2022-12-06T16:24:06.751158Z",
     "iopub.status.busy": "2022-12-06T16:24:06.750770Z",
     "iopub.status.idle": "2022-12-06T16:24:06.755849Z",
     "shell.execute_reply": "2022-12-06T16:24:06.754521Z"
    },
    "papermill": {
     "duration": 0.013184,
     "end_time": "2022-12-06T16:24:06.758272",
     "exception": false,
     "start_time": "2022-12-06T16:24:06.745088",
     "status": "completed"
    },
    "tags": []
   },
   "outputs": [],
   "source": [
    "#create true negative, false positive, false negative, and true positive \n",
    "#def tn(y_true, y_pred): return confusion_matrix(y_true, y_pred)[0, 0]\n",
    "#def fp(y_true, y_pred): return confusion_matrix(y_true, y_pred)[0, 1]\n",
    "#def fn(y_true, y_pred): return confusion_matrix(y_true, y_pred)[1, 0]\n",
    "#def tp(y_true, y_pred): return confusion_matrix(y_true, y_pred)[1, 1]"
   ]
  },
  {
   "cell_type": "code",
   "execution_count": 7,
   "id": "2d66cae0",
   "metadata": {
    "execution": {
     "iopub.execute_input": "2022-12-06T16:24:06.769200Z",
     "iopub.status.busy": "2022-12-06T16:24:06.768822Z",
     "iopub.status.idle": "2022-12-06T16:24:07.261866Z",
     "shell.execute_reply": "2022-12-06T16:24:07.260385Z"
    },
    "papermill": {
     "duration": 0.501431,
     "end_time": "2022-12-06T16:24:07.264412",
     "exception": false,
     "start_time": "2022-12-06T16:24:06.762981",
     "status": "completed"
    },
    "tags": []
   },
   "outputs": [
    {
     "data": {
      "text/plain": [
       "0.5501929351764566"
      ]
     },
     "execution_count": 7,
     "metadata": {},
     "output_type": "execute_result"
    }
   ],
   "source": [
    "#bagging classifier\n",
    "#from sklearn.datasets import make_classification\n",
    "#X, y = make_classification(n_samples=10000, n_features=2, n_informative=2,\n",
    "                           #n_redundant=0, n_repeated=0, n_classes=3,\n",
    "                           #n_clusters_per_class=1,\n",
    "                           #weights=[0.01, 0.05, 0.94], class_sep=0.8,\n",
    "                           #random_state=7)\n",
    "from sklearn.model_selection import train_test_split\n",
    "from sklearn.metrics import balanced_accuracy_score\n",
    "from sklearn.ensemble import BaggingClassifier\n",
    "from sklearn.tree import DecisionTreeClassifier\n",
    "bc = BaggingClassifier(base_estimator=DecisionTreeClassifier(),\n",
    "                       random_state=7)\n",
    "bc.fit(x_train, y_train) \n",
    "\n",
    "y_pred = bc.predict(x_test)\n",
    "balanced_accuracy_score(y_test, y_pred) "
   ]
  },
  {
   "cell_type": "code",
   "execution_count": 8,
   "id": "3c4d441c",
   "metadata": {
    "execution": {
     "iopub.execute_input": "2022-12-06T16:24:07.276212Z",
     "iopub.status.busy": "2022-12-06T16:24:07.275374Z",
     "iopub.status.idle": "2022-12-06T16:24:07.588704Z",
     "shell.execute_reply": "2022-12-06T16:24:07.587800Z"
    },
    "papermill": {
     "duration": 0.3217,
     "end_time": "2022-12-06T16:24:07.591003",
     "exception": false,
     "start_time": "2022-12-06T16:24:07.269303",
     "status": "completed"
    },
    "tags": []
   },
   "outputs": [
    {
     "data": {
      "text/plain": [
       "0.6787949796504595"
      ]
     },
     "execution_count": 8,
     "metadata": {},
     "output_type": "execute_result"
    }
   ],
   "source": [
    "#balanced bagging classifier\n",
    "from imblearn.ensemble import BalancedBaggingClassifier\n",
    "bbc = BalancedBaggingClassifier(base_estimator=DecisionTreeClassifier(),sampling_strategy='auto',replacement=False,random_state=7)\n",
    "bbc.fit(x_train, y_train) \n",
    "\n",
    "y_pred = bbc.predict(x_test)\n",
    "balanced_accuracy_score(y_test, y_pred)\n"
   ]
  },
  {
   "cell_type": "code",
   "execution_count": 9,
   "id": "d09b3a8d",
   "metadata": {
    "execution": {
     "iopub.execute_input": "2022-12-06T16:24:07.602381Z",
     "iopub.status.busy": "2022-12-06T16:24:07.601695Z",
     "iopub.status.idle": "2022-12-06T16:24:09.471055Z",
     "shell.execute_reply": "2022-12-06T16:24:09.469884Z"
    },
    "papermill": {
     "duration": 1.878002,
     "end_time": "2022-12-06T16:24:09.473700",
     "exception": false,
     "start_time": "2022-12-06T16:24:07.595698",
     "status": "completed"
    },
    "tags": []
   },
   "outputs": [
    {
     "data": {
      "text/plain": [
       "0.7134871999888479"
      ]
     },
     "execution_count": 9,
     "metadata": {},
     "output_type": "execute_result"
    }
   ],
   "source": [
    "#BalancedRandomForestClassifier\n",
    "from sklearn.metrics import balanced_accuracy_score\n",
    "from imblearn.ensemble import BalancedRandomForestClassifier\n",
    "brf = BalancedRandomForestClassifier(n_estimators=100, random_state=7)\n",
    "brf.fit(x_train, y_train) \n",
    "\n",
    "y_pred = brf.predict(x_test)\n",
    "balanced_accuracy_score(y_test, y_pred)  \n"
   ]
  },
  {
   "cell_type": "code",
   "execution_count": 10,
   "id": "2167c167",
   "metadata": {
    "execution": {
     "iopub.execute_input": "2022-12-06T16:24:09.484436Z",
     "iopub.status.busy": "2022-12-06T16:24:09.484054Z",
     "iopub.status.idle": "2022-12-06T16:24:13.119308Z",
     "shell.execute_reply": "2022-12-06T16:24:13.118073Z"
    },
    "papermill": {
     "duration": 3.644015,
     "end_time": "2022-12-06T16:24:13.122444",
     "exception": false,
     "start_time": "2022-12-06T16:24:09.478429",
     "status": "completed"
    },
    "tags": []
   },
   "outputs": [
    {
     "data": {
      "text/plain": [
       "0.738240617807268"
      ]
     },
     "execution_count": 10,
     "metadata": {},
     "output_type": "execute_result"
    }
   ],
   "source": [
    "#rusboostclassifier\n",
    "from imblearn.ensemble import RUSBoostClassifier\n",
    "rusboost = RUSBoostClassifier(n_estimators=200, algorithm='SAMME.R',random_state=7)\n",
    "rusboost.fit(x_train, y_train)  \n",
    "\n",
    "y_pred = rusboost.predict(x_test)\n",
    "balanced_accuracy_score(y_test, y_pred)"
   ]
  },
  {
   "cell_type": "code",
   "execution_count": 11,
   "id": "050ed482",
   "metadata": {
    "execution": {
     "iopub.execute_input": "2022-12-06T16:24:13.133398Z",
     "iopub.status.busy": "2022-12-06T16:24:13.132996Z",
     "iopub.status.idle": "2022-12-06T16:24:16.730014Z",
     "shell.execute_reply": "2022-12-06T16:24:16.728768Z"
    },
    "papermill": {
     "duration": 3.606083,
     "end_time": "2022-12-06T16:24:16.733237",
     "exception": false,
     "start_time": "2022-12-06T16:24:13.127154",
     "status": "completed"
    },
    "tags": []
   },
   "outputs": [
    {
     "data": {
      "text/plain": [
       "0.7441826807930166"
      ]
     },
     "execution_count": 11,
     "metadata": {},
     "output_type": "execute_result"
    }
   ],
   "source": [
    "#easyensembleclassifier\n",
    "from imblearn.ensemble import EasyEnsembleClassifier\n",
    "eec = EasyEnsembleClassifier(random_state=7)\n",
    "eec.fit(x_train, y_train) \n",
    "\n",
    "y_pred = eec.predict(x_test)\n",
    "balanced_accuracy_score(y_test, y_pred)"
   ]
  },
  {
   "cell_type": "code",
   "execution_count": 12,
   "id": "98396211",
   "metadata": {
    "execution": {
     "iopub.execute_input": "2022-12-06T16:24:16.745300Z",
     "iopub.status.busy": "2022-12-06T16:24:16.744879Z",
     "iopub.status.idle": "2022-12-06T16:24:18.269427Z",
     "shell.execute_reply": "2022-12-06T16:24:18.267912Z"
    },
    "papermill": {
     "duration": 1.534184,
     "end_time": "2022-12-06T16:24:18.272452",
     "exception": false,
     "start_time": "2022-12-06T16:24:16.738268",
     "status": "completed"
    },
    "tags": []
   },
   "outputs": [
    {
     "name": "stdout",
     "output_type": "stream",
     "text": [
      "KNN Accuracy:  0.5205612002470568\n"
     ]
    }
   ],
   "source": [
    "# Basic KNN Method\n",
    "knn = KNeighborsClassifier(n_neighbors = 5)\n",
    "knn.fit(x_train, y_train)\n",
    "y_pred = knn.predict(x_test)\n",
    "print(\"KNN Accuracy: \",balanced_accuracy_score(y_test, y_pred))"
   ]
  },
  {
   "cell_type": "code",
   "execution_count": 13,
   "id": "86572de6",
   "metadata": {
    "execution": {
     "iopub.execute_input": "2022-12-06T16:24:18.285041Z",
     "iopub.status.busy": "2022-12-06T16:24:18.284627Z",
     "iopub.status.idle": "2022-12-06T16:24:18.315966Z",
     "shell.execute_reply": "2022-12-06T16:24:18.314673Z"
    },
    "papermill": {
     "duration": 0.040644,
     "end_time": "2022-12-06T16:24:18.318477",
     "exception": false,
     "start_time": "2022-12-06T16:24:18.277833",
     "status": "completed"
    },
    "tags": []
   },
   "outputs": [
    {
     "name": "stdout",
     "output_type": "stream",
     "text": [
      "Naive Bayes Classifier Accuracy:  0.6434223514372172\n"
     ]
    }
   ],
   "source": [
    "#naive bayes\n",
    "from sklearn.naive_bayes import GaussianNB\n",
    "Gnb = GaussianNB()\n",
    "Gnb.fit(x_train, y_train)\n",
    "y_pred = Gnb.predict(x_test)\n",
    "print(\"Naive Bayes Classifier Accuracy: \",balanced_accuracy_score(y_test, y_pred))"
   ]
  }
 ],
 "metadata": {
  "kernelspec": {
   "display_name": "Python 3",
   "language": "python",
   "name": "python3"
  },
  "language_info": {
   "codemirror_mode": {
    "name": "ipython",
    "version": 3
   },
   "file_extension": ".py",
   "mimetype": "text/x-python",
   "name": "python",
   "nbconvert_exporter": "python",
   "pygments_lexer": "ipython3",
   "version": "3.7.12"
  },
  "papermill": {
   "default_parameters": {},
   "duration": 21.987914,
   "end_time": "2022-12-06T16:24:19.047962",
   "environment_variables": {},
   "exception": null,
   "input_path": "__notebook__.ipynb",
   "output_path": "__notebook__.ipynb",
   "parameters": {},
   "start_time": "2022-12-06T16:23:57.060048",
   "version": "2.3.4"
  }
 },
 "nbformat": 4,
 "nbformat_minor": 5
}
